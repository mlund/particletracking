{
 "cells": [
  {
   "cell_type": "code",
   "execution_count": null,
   "metadata": {
    "collapsed": false
   },
   "outputs": [],
   "source": [
    "from __future__ import division, unicode_literals, print_function\n",
    "import matplotlib as mpl\n",
    "import matplotlib.pyplot as plt\n",
    "%matplotlib inline\n",
    "import numpy as np\n",
    "import os.path, os, sys, json\n",
    "plt.rcParams.update({'font.size': 16, 'figure.figsize': [8.0, 6.0]})\n",
    "workdir=%pwd\n",
    "print(workdir)"
   ]
  },
  {
   "cell_type": "markdown",
   "metadata": {},
   "source": [
    "### Download and build the Monte Carlo package _Faunus_\n",
    "\n",
    "To simulate the interaction of rigid fibrils with a charged, planar surface we use a custom Metropolis Monte Carlo (MC) program build within the [Faunus framework](http://github.com/mlund/faunus.git). The sections below will fetch the complete faunus project and compile the appropriate version of the program."
   ]
  },
  {
   "cell_type": "code",
   "execution_count": null,
   "metadata": {
    "collapsed": false
   },
   "outputs": [],
   "source": [
    "%%bash -s \"$workdir\"\n",
    "cd $1\n",
    "if [ ! -d \"faunus/\" ]; then\n",
    "  git clone https://github.com/mlund/faunus.git\n",
    "  cd faunus\n",
    "  git checkout fceb673dc51244eb37fc1f26a89dd910f0228b33\n",
    "else\n",
    "  cd faunus\n",
    "fi\n",
    "cmake . -DCMAKE_BUILD_TYPE=Release &>/dev/null \n",
    "make example_stripes"
   ]
  },
  {
   "cell_type": "markdown",
   "metadata": {},
   "source": [
    "### Run Metropolis Monte Carlo Simulation\n",
    "\n",
    "This will generate an input file for the MC program, run it and print simulation details.\n",
    "Finally, the positions at the end of the simulation are visualized.\n",
    "\n",
    "Our system is a cubic box of side length $L$ where $N$ particles translate in the x- and y-directions.\n",
    "\n",
    "Particles interact via $\\propto$ r$^{-12}$ and $\\propto$ r$^{-3}$ pair-potentials. \n",
    "The $\\propto$ r$^{-12}$ potential, modelling the exchange repulsions between finite-size particles, is given by\n",
    "\n",
    "\\begin{equation}\n",
    "u_{rep}(r) = E \\frac{\\sigma^{12}}{r^{12}}\n",
    "\\end{equation}\n",
    "where $\\sigma$ is the particle's diameter, and $E$ is an energy parameter.\n",
    "\n",
    "The $\\propto$ r$^{-3}$ potential, modelling the magnetic dipole-dipole interaction, reads as\n",
    "\n",
    "\\begin{equation}\n",
    "u_{d-d}(r) = \\frac{C}{r^{3}}\n",
    "\\end{equation}\n",
    "\n",
    "where C is a constant proportional to the squared magnitude of the particle's magnetic dipole moment (page 83 [Israelachvili](http://www.sciencedirect.com/science/book/9780123751829)).\n",
    "\n",
    "In molecular simulations, the boundary effects related to the small size of the simulation box compared to bulk systems is very often handled using periodic boundary conditions (PBC): any particle passing through one boundary of the simulation cell comes back into the cell through the opposite boundary (page 34 [Frenkel & Smit](http://www.sciencedirect.com/science/book/9780122673511)).\n",
    "\n",
    "If we do not use PBC in our simulation, our system would be confined by hard walls corresponding to the repulsive magnetic bars at the sides of the 2D particle simulator."
   ]
  },
  {
   "cell_type": "markdown",
   "metadata": {},
   "source": [
    "### Run Metropolis Monte Carlo Simulation\n",
    "\n",
    "This will generate an input file for the MC program, run it and print simulation details.\n",
    "Finally, the positions at the end of the simulation are visualized."
   ]
  },
  {
   "cell_type": "code",
   "execution_count": null,
   "metadata": {
    "collapsed": false
   },
   "outputs": [],
   "source": [
    "mcdir = workdir+'/faunus/src/examples'\n",
    "%cd $mcdir\n",
    "%rm -f state\n",
    "\n",
    "N=40          # number of particles\n",
    "diameter=30   # particle diameter\n",
    "L=600.        # side lengths of the quadratic simulation plane\n",
    "C=1.5e6       # constant proportional to the squared magnitude of the particle's magnetic dipole moment\n",
    "E=10          # energy parameter for exclusion repulsion\n",
    "\n",
    "# generate input file for MC program\n",
    "js = {\n",
    "    \"atomlist\" : { \"MP\" : { \"r\":diameter*0.5, \"dp\":100 } },\n",
    "    \"moleculelist\" : {\n",
    "        \"myparticles\" : { \"atoms\":\"MP\", \"atomic\":True, \"Ninit\" : N, \"insdir\":\"1 1 0\" }\n",
    "    },\n",
    "    \"energy\" : {\n",
    "        \"nonbonded\" : {\n",
    "            \"repulsionr3\" : {\"prefactor\":C, \"lj-prefactor\":E, \"sigma\":diameter}\n",
    "        }\n",
    "    },\n",
    "    \"moves\" : {\n",
    "        \"atomtranslate\" : {\n",
    "          \"myparticles\" : { \"peratom\":True, \"dir\":\"1 1 0\" }\n",
    "        }\n",
    "    },\n",
    "    \"system\" : {\n",
    "        \"cuboid\" : { \"len\" : L }\n",
    "    }\n",
    "}\n",
    "with open('montecarlo.json', 'w+') as f:\n",
    "    f.write(json.dumps(js, indent=4))\n",
    "\n",
    "# if MC executable exists, run it and visualize final configuration\n",
    "exe='./stripes'\n",
    "if ( os.access( exe, os.X_OK )):\n",
    "    !./stripes\n",
    "    x,y = np.genfromtxt('confout.pqr', invalid_raise=False, usecols=(5,6), unpack=True, skip_footer=1)\n",
    "    x=x+L/2.0\n",
    "    y=y+L/2.0\n",
    "    plt.plot(x,y, 'ro', ms=diameter*0.5)\n",
    "    plt.xlabel(r'(you fill in all axis labels!)')"
   ]
  },
  {
   "cell_type": "markdown",
   "metadata": {},
   "source": [
    "### Calculate histogram for uniform distribution (Hard Walls)\n",
    "\n",
    "We now generate the distribution of particle distances for the case where these are completely uncorrelated, i.e. for an ideal 2D gas confined on a square with hard boundaries. This is done by randomly placing a large number of particles (the more, the higher accuracy) and build a histogram of distances."
   ]
  },
  {
   "cell_type": "code",
   "execution_count": null,
   "metadata": {
    "collapsed": false
   },
   "outputs": [],
   "source": [
    "from scipy.spatial import distance\n",
    "ux = np.random.random_integers(0, L, 5000)\n",
    "uy = np.random.random_integers(0, L, 5000)\n",
    "upos = np.array([ux, uy]).T\n",
    "hist = np.histogram(distance.pdist(upos), bins=150, normed=True)\n",
    "ur = hist[1][1:]# / diameter\n",
    "uP = hist[0]"
   ]
  },
  {
   "cell_type": "markdown",
   "metadata": {},
   "source": [
    "### Load simulated histogram\n",
    "\n",
    "During simulation, the MC program samples the distribution of distances observed and saves it to the file `hist.dat`.\n",
    "This we here load, normalize and plot."
   ]
  },
  {
   "cell_type": "code",
   "execution_count": null,
   "metadata": {
    "collapsed": false
   },
   "outputs": [],
   "source": [
    "r,P = np.loadtxt('hist.dat', unpack=True)\n",
    "r = r\n",
    "ur = hist[1][1:]\n",
    "print(L)\n",
    "P = P/P.cumsum()[-1] # normalize\n",
    "plt.plot(r, P,lw=2)\n",
    "plt.plot(ur, uP,lw=2)\n",
    "plt.show()"
   ]
  },
  {
   "cell_type": "markdown",
   "metadata": {},
   "source": [
    "### Calculate histogram for uniform distribution (PBC with minimum image convention)\n",
    "\n",
    "We now generate the distribution of particle distances for the case where these are completely uncorrelated, i.e. for an ideal 2D gas with PBC using the minimum image convention. This is done by randomly placing a large number of particles (the more, the higher accuracy) and build a histogram of distances."
   ]
  },
  {
   "cell_type": "code",
   "execution_count": null,
   "metadata": {
    "collapsed": true
   },
   "outputs": [],
   "source": [
    "from scipy.spatial import distance\n",
    "ux = np.random.randint(0, L+1, 2000)\n",
    "uy = np.random.randint(0, L+1, 2000)\n",
    "upos = np.array([ux, uy]).T\n",
    "def minimum_image(u,v): # calculate distance according to minimum image convention\n",
    "    dvec = np.absolute(u-v)\n",
    "    d2 = 0\n",
    "    for i in dvec:\n",
    "        if (i>L/2):\n",
    "            d2 += (i-L)**2\n",
    "        else:\n",
    "            d2 += i**2\n",
    "    return np.sqrt(d2)\n",
    "hist = np.histogram(distance.pdist(upos,lambda u, v: minimum_image(u,v)), bins=150, normed=True)\n",
    "urpbc = hist[1][1:]# / diameter\n",
    "uPpbc = hist[0]"
   ]
  },
  {
   "cell_type": "markdown",
   "metadata": {},
   "source": [
    "### Load simulated histogram\n",
    "\n",
    "During simulation, the MC program samples the distribution of distances observed and saves it to the file `histpbc.dat`.\n",
    "This we here load, normalize and plot."
   ]
  },
  {
   "cell_type": "code",
   "execution_count": null,
   "metadata": {
    "collapsed": false
   },
   "outputs": [],
   "source": [
    "rpbc,Ppbc = np.loadtxt('histpbc.dat', unpack=True)\n",
    "r = r\n",
    "ur = hist[1][1:]\n",
    "print(L)\n",
    "Ppbc = Ppbc/Ppbc.cumsum()[-1] # normalize\n",
    "plt.plot(rpbc, Ppbc,'r-',lw=2, label='MC with PBC')\n",
    "plt.plot(urpbc, uPpbc,'b-',lw=2, label='Uncorrelated\\npoint particles')\n",
    "plt.ylim(-.0001,0.0061)\n",
    "plt.legend(frameon=False,loc='upper left')\n",
    "plt.show()"
   ]
  },
  {
   "cell_type": "markdown",
   "metadata": {},
   "source": [
    "### Calculate final distribution function, $g(r)$\n",
    "\n",
    "In order to divide the two above distributions with each other, the data points in each set need to be aligned. This we easily ensure with Akima splines."
   ]
  },
  {
   "cell_type": "code",
   "execution_count": null,
   "metadata": {
    "collapsed": true
   },
   "outputs": [],
   "source": [
    "from scipy.interpolate import Akima1DInterpolator\n",
    "rvals = np.linspace(0,L+80,500)\n",
    "gofr = Akima1DInterpolator(r, P)(rvals) / Akima1DInterpolator(ur, uP)(rvals)\n",
    "gofrpbc = Akima1DInterpolator(rpbc, Ppbc)(rvals) / Akima1DInterpolator(urpbc, uPpbc)(rvals)\n",
    "plt.plot(rvals, gofr, 'r-',lw=2,label='MC with hard walls')\n",
    "plt.plot(rvals, gofrpbc, 'b-',lw=2,label='MC with PBC')\n",
    "plt.plot([0,700],[1,1],'k--',lw=0.5)\n",
    "plt.ylim(-0.1,3.1)\n",
    "plt.legend(frameon=False)"
   ]
  },
  {
   "cell_type": "markdown",
   "metadata": {},
   "source": [
    "### Calculate average energy \n",
    "\n",
    "Integrate the pair potential over the volume around a test particle weighting by the radial distribution function:"
   ]
  },
  {
   "cell_type": "code",
   "execution_count": null,
   "metadata": {
    "collapsed": true
   },
   "outputs": [],
   "source": [
    "rvals = np.linspace(0.85,L/2,500)\n",
    "gofr = Akima1DInterpolator(r, P)(rvals) / Akima1DInterpolator(ur, uP)(rvals)\n",
    "area=L*L\n",
    "dr = rvals[1]-rvals[0]\n",
    "print( np.cumsum(dr*math.pi*rvals*gofr)[-1] * N**2 / area )"
   ]
  },
  {
   "cell_type": "markdown",
   "metadata": {},
   "source": [
    "### Exercises, Part II\n",
    "\n",
    "0. For all figures, label axes specifying the units.\n",
    "0. Explore the particle displacement parameter. How does this influence the mean square displacement and move acceptance? Does it influence the final result?\n",
    "0. How does temperature enter the simulation?\n",
    "0. Run simulation with PBC instead of hard walls (change CuboidNoPBC to Cuboid in line 4, hist.dat to histpbc.dat, in montecarlo.cpp and recompile).\n",
    "0. Observe the  distance distribution, $P(r)$, for magnetic particles in a 2D system of side length 600 pixels, with PBC. Why does $P(r)$ increase linearly with $r$ for $r<300$ pixels? What $r$-dependence would you expect for a 3D system? (Hint: Read paragraph 17-1 in Hill's book - especially page 301. Please mention the difference between the infinitesimal area and volume elements in 2D and 3D, respectively.)\n",
    "0. Observe the radial distribution functions, RDF or $g(r)$, obtained from the 2D particle simulator and from MC simulations of magnetic particles, with and without PBC. Comment on the differences between the three RDFs, and explain the deviation from unity at large separations observed in the simulation result (with and without PBC) and for the 2D particle simulator.  (Hint: In the 2D particle simulator the walls are magnetic bars, not just hard walls.)\n",
    "0. Simulate $g(r)$ for non-interacting particles (N.B. both dipole-dipole and size-exclusion interactions should be vanishing). Although in theory it should, the curve may not be unity for all distances. Why?\n",
    "0. List the differences between the particle simulator and the MC system. (Hint: discuss at least boundaries, interactions).\n",
    "0. Complete the script in the last cell of the notebook to calculate the average energy of the system with the following integral:\n",
    "\n",
    "\\begin{equation}\n",
    "\\bar{U} = \\frac{N^2}{2A} \\int_0^\\infty \\mathrm{d}r 2\\pi r \\left ( u_{rep}(r) + u_{d-d}(r) \\right ) g(r)\n",
    "\\end{equation}"
   ]
  }
 ],
 "metadata": {
  "anaconda-cloud": {},
  "kernelspec": {
   "display_name": "Python [conda env:particletracking]",
   "language": "python",
   "name": "conda-env-particletracking-py"
  },
  "language_info": {
   "codemirror_mode": {
    "name": "ipython",
    "version": 2
   },
   "file_extension": ".py",
   "mimetype": "text/x-python",
   "name": "python",
   "nbconvert_exporter": "python",
   "pygments_lexer": "ipython2",
   "version": "2.7.13"
  }
 },
 "nbformat": 4,
 "nbformat_minor": 1
}
