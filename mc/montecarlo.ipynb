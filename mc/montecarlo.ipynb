{
 "cells": [
  {
   "cell_type": "markdown",
   "metadata": {},
   "source": [
    "# _In Silico_ Particle Simulator: Monte Carlo Simulations with _Faunus_"
   ]
  },
  {
   "cell_type": "code",
   "execution_count": null,
   "metadata": {},
   "outputs": [],
   "source": [
    "import matplotlib as mpl\n",
    "import matplotlib.pyplot as plt\n",
    "import matplotlib.animation as animation\n",
    "%matplotlib inline\n",
    "import numpy as np\n",
    "import os.path, os, sys, json\n",
    "from IPython.display import HTML\n",
    "plt.rcParams.update({'font.size': 16, 'figure.figsize': [8.0, 6.0]})\n",
    "workdir=%pwd\n",
    "print(workdir)"
   ]
  },
  {
   "cell_type": "markdown",
   "metadata": {},
   "source": [
    "## Model System\n",
    "\n",
    "The model system is a cubic box of side length $L$ where $N$ particles are located on the xy-plane and translate in the x- and y-directions.\n",
    "\n",
    "Particles interact via $\\propto$ r$^{-12}$ and $\\propto$ r$^{-3}$ pair-potentials. \n",
    "The $\\propto$ r$^{-12}$ potential, modelling the exchange repulsions between finite-size particles, is given by\n",
    "\n",
    "\\begin{equation}\n",
    "u_{rep}(r) = \\epsilon \\frac{\\sigma^{12}}{r^{12}}\n",
    "\\end{equation}\n",
    "where $\\sigma$ is the particle's diameter, and $\\epsilon$ is an energy parameter.\n",
    "\n",
    "The $\\propto$ r$^{-3}$ potential, modelling the magnetic dipole-dipole interaction, reads as\n",
    "\n",
    "\\begin{equation}\n",
    "u_{d-d}(r) = \\frac{C}{r^{3}}\n",
    "\\end{equation}\n",
    "\n",
    "where $C$ is a constant proportional to the squared magnitude of the particle's magnetic dipole moment (page 83 [Israelachvili](http://www.sciencedirect.com/science/book/9780123751829)).\n",
    "\n",
    "In molecular simulations, the boundary effects related to the small size of the simulation box compared to bulk systems is often handled using periodic boundary conditions (PBC): any particle passing through one boundary of the simulation cell comes back into the cell through the opposite boundary (page 34 [Frenkel & Smit](http://www.sciencedirect.com/science/book/9780122673511)).\n",
    "\n",
    "If we do not use PBC in our simulation, our system would be confined by hard walls corresponding to the repulsive magnetic bars at the sides of the 2D particle simulator."
   ]
  },
  {
   "cell_type": "markdown",
   "metadata": {},
   "source": [
    "## Running MC simulations\n",
    "\n",
    "To simulate magnetic particles interacting on a plane we use a custom Metropolis Monte Carlo (MC) program built within the [Faunus framework](https://mlund.github.io/neofaunus/docs/). \n",
    "\n",
    "The following cells generate the input file to simulate the system with and without PBC.\n",
    "\n",
    "The keyword `mcloop` determines the number of MC sweeps (_macro_ $\\times$ _micro_).\n",
    "\n",
    "`atomlist` indicates the type of atoms in the system. We are going to simulate magnetic particles (*MP*). The [trial moves](https://mlund.github.io/neofaunus/docs/moves/) for these particles are translations in the xy-plane and the length of the displacement is determined by the product of *dp* times a random unit vector.\n",
    "\n",
    "Below the keyword `insertmolecules` we set the number of magnets in the system.\n",
    "\n",
    "Below the keyword `energy` we set the nonbonded interactions. _sigma_ sets the particle diameter, _prefactor_ sets the constant for the $r^{-3}$-interaction (*C*) while lj-prefactor sets the energy parameter for the $r^{-12}$-interaction ($\\epsilon$). In the case of simulations with hard walls, we add an additional term to the [Hamiltonian](https://mlund.github.io/neofaunus/docs/energy/) which confines the particles in $-L/2\\leq x\\leq L/2$ and $-L/2\\leq y\\leq L/2$. This term is a quadratic function of the distance from the boundary with spring constant $k$ that is applied to the particle when it is outside the boundaries.\n",
    "\n",
    "Finally, below [`analysis`](https://mlund.github.io/neofaunus/docs/analysis/) we indicate the analysis that we want to perform during the simulation. Here, we specify that we want to save each configuration into a trajectory file and the final configuration into a `gro` file. We also want to print to file the energy of the system (total, nonbonded, or confinement) for each frame.\n",
    "\n",
    "Trajectory files are saved in `xtc` format – notice that the default length unit in `Faunus` is Å while coordinates are saved in nm in `xtc` and `gro` files."
   ]
  },
  {
   "cell_type": "markdown",
   "metadata": {},
   "source": [
    "### Some Important Parameters"
   ]
  },
  {
   "cell_type": "code",
   "execution_count": null,
   "metadata": {},
   "outputs": [],
   "source": [
    "# particle diameter\n",
    "sigma = 53.\n",
    "# particle displacement\n",
    "dp = 100\n",
    "# number of particles\n",
    "N = 55\n",
    "# Side length of the box\n",
    "L = 600.\n",
    "# Prefactor C\n",
    "C = 1e6\n",
    "# lj-prefactor\n",
    "epsilon = 10\n",
    "# number of MC sweeps\n",
    "micro = 1e4\n",
    "# trajectory file name\n",
    "trajname = 'traj_'+str(N)\n",
    "# final configuration file name\n",
    "confname = 'conf_'+str(N)\n",
    "# energy file name\n",
    "energyname = 'energy_'+str(N)"
   ]
  },
  {
   "cell_type": "markdown",
   "metadata": {},
   "source": [
    "### Simulations with PBC"
   ]
  },
  {
   "cell_type": "code",
   "execution_count": null,
   "metadata": {},
   "outputs": [],
   "source": [
    "js = { \n",
    "\"temperature\": 298, \n",
    "\"mcloop\": {\"macro\": 1, \"micro\": micro},\n",
    "\"geometry\": {\"type\":'cuboid', \"length\": L},\n",
    "\"energy\": [ \n",
    "    { \"nonbonded\": { \"default\": [ \n",
    "        { \"repulsionr3\": {\"prefactor\": C, \"lj-prefactor\": epsilon, \"sigma\": sigma} } ] } } ],\n",
    "\"atomlist\": [\n",
    "    { \"MP\": {\"dp\": dp} } ],\n",
    "\"moleculelist\": [\n",
    "    { \"magnets\": {\"atoms\": [\"MP\"], \"atomic\": True, \"insdir\": [1,1,0]} } ],\n",
    "\"insertmolecules\": [\n",
    "    { \"magnets\": {\"N\": N} } ],\n",
    "\"moves\": [\n",
    "    { \"transrot\": {\"molecule\": \"magnets\", \"dir\": [1,1,0]} } ],\n",
    "\"analysis\": [\n",
    "    { \"xtcfile\": {\"file\": trajname+\"_pbc.xtc\", \"nstep\": 10} },\n",
    "    {\"savestate\": {\"file\": confname+\"_pbc.gro\"} },\n",
    "    {\"systemenergy\": {\"file\": energyname+\"_pbc.dat\", \"nstep\": 10} } ] } \n",
    "with open('pbc.json', 'w+') as f:\n",
    "    f.write(json.dumps(js, indent=4))\n",
    "\n",
    "!faunus -i pbc.json"
   ]
  },
  {
   "cell_type": "markdown",
   "metadata": {},
   "source": [
    "JSON formatted input can be converted to YAML for better readability."
   ]
  },
  {
   "cell_type": "code",
   "execution_count": null,
   "metadata": {},
   "outputs": [],
   "source": [
    "!yason.py --color pbc.json"
   ]
  },
  {
   "cell_type": "markdown",
   "metadata": {},
   "source": [
    "JSON formatted output can be converted to YAML for better readability."
   ]
  },
  {
   "cell_type": "code",
   "execution_count": null,
   "metadata": {},
   "outputs": [],
   "source": [
    "!yason.py --color out.json"
   ]
  },
  {
   "cell_type": "markdown",
   "metadata": {},
   "source": [
    "### Simulations with hard walls (no PBC)"
   ]
  },
  {
   "cell_type": "code",
   "execution_count": null,
   "metadata": {},
   "outputs": [],
   "source": [
    "js = { \n",
    "\"temperature\": 298,\n",
    "\"mcloop\": {\"macro\": 1, \"micro\": micro},\n",
    "\"geometry\": {\"type\":'cuboid', \"length\": L},\n",
    "\"energy\": [ \n",
    "    { \"nonbonded\": { \"default\": [ \n",
    "        { \"repulsionr3\": {\"prefactor\": C, \"lj-prefactor\": epsilon, \"sigma\": sigma} } ] } },\n",
    "    { \"confine\": \n",
    "         {\"type\": \"cuboid\", \"low\": [-L/2+sigma,-L/2+sigma,0], \"high\": [L/2-sigma,L/2-sigma,0], \n",
    "              \"molecules\": [\"magnets\"], \"k\": 1e6} } ],\n",
    "    \n",
    "\"atomlist\": [\n",
    "    { \"MP\": {\"dp\": dp} } ],\n",
    "\"moleculelist\": [\n",
    "    { \"magnets\": {\"atoms\": [\"MP\"], \"atomic\": True, \"insdir\": [1,1,0]} } ],\n",
    "\"insertmolecules\": [\n",
    "    { \"magnets\": {\"N\": N} } ],\n",
    "\"moves\": [\n",
    "    { \"transrot\": {\"molecule\": \"magnets\", \"dir\": [1,1,0]} } ],\n",
    "\"analysis\": [\n",
    "    {\"xtcfile\": {\"file\": trajname+\"_nopbc.xtc\", \"nstep\": 10} },\n",
    "    {\"savestate\": {\"file\": confname+\"_nopbc.gro\"} },\n",
    "    {\"systemenergy\": {\"file\": energyname+\"_nopbc.dat\", \"nstep\": 10} } ] }\n",
    "with open('nopbc.json', 'w+') as f:\n",
    "    f.write(json.dumps(js, indent=4))\n",
    "\n",
    "!faunus -i nopbc.json"
   ]
  },
  {
   "cell_type": "markdown",
   "metadata": {},
   "source": [
    "### Loading the Trajectory file using `MDTraj`\n",
    "\n",
    "Here we are loading the `xtc` file using the Python library [MDTraj](http://mdtraj.org/1.9.0/)."
   ]
  },
  {
   "cell_type": "code",
   "execution_count": null,
   "metadata": {},
   "outputs": [],
   "source": [
    "import mdtraj as md\n",
    "traj = md.load_xtc(trajname+'_pbc.xtc',top=confname+'_pbc.gro')"
   ]
  },
  {
   "cell_type": "markdown",
   "metadata": {},
   "source": [
    "Number of particles in the system:"
   ]
  },
  {
   "cell_type": "code",
   "execution_count": null,
   "metadata": {},
   "outputs": [],
   "source": [
    "traj.n_atoms"
   ]
  },
  {
   "cell_type": "markdown",
   "metadata": {},
   "source": [
    "Number of frames in the trajectory:"
   ]
  },
  {
   "cell_type": "code",
   "execution_count": null,
   "metadata": {},
   "outputs": [],
   "source": [
    "traj.n_frames"
   ]
  },
  {
   "cell_type": "markdown",
   "metadata": {},
   "source": [
    "The coordinates of all the particles for all the frames can be accessed as an array of shape:<br> *number of frames*, *number of particle*, *number of cartesian coordinates*."
   ]
  },
  {
   "cell_type": "code",
   "execution_count": null,
   "metadata": {},
   "outputs": [],
   "source": [
    "traj.xyz.shape"
   ]
  },
  {
   "cell_type": "markdown",
   "metadata": {},
   "source": [
    "Here are the positions of the first three magnets in the 12th frame:"
   ]
  },
  {
   "cell_type": "code",
   "execution_count": null,
   "metadata": {},
   "outputs": [],
   "source": [
    "traj.xyz[12,:3,:]"
   ]
  },
  {
   "cell_type": "markdown",
   "metadata": {},
   "source": [
    "Here are the x-coordinates of the first 5th–7th magnets in the 20th frame:"
   ]
  },
  {
   "cell_type": "code",
   "execution_count": null,
   "metadata": {},
   "outputs": [],
   "source": [
    "traj.xyz[20,4:7,0]"
   ]
  },
  {
   "cell_type": "markdown",
   "metadata": {},
   "source": [
    "We can print the positions of the particles in the 20th frame by plotting `traj.xyz` using `Matplotlib`"
   ]
  },
  {
   "cell_type": "code",
   "execution_count": null,
   "metadata": {},
   "outputs": [],
   "source": [
    "fig, ax = plt.subplots()\n",
    "ax.plot(traj.xyz[10,:,0]*10,traj.xyz[10,:,1]*10, 'ro', ms=15)\n",
    "ax.set_aspect('equal')\n",
    "ax.set_xlabel(r'distance (pixel)')\n",
    "ax.set_ylabel(r'distance (pixel)')\n",
    "\n",
    "\n",
    "ax.set_ylim(-10,610)\n",
    "ax.set_xlim(-10,610)\n",
    "plt.show()"
   ]
  },
  {
   "cell_type": "markdown",
   "metadata": {},
   "source": [
    "We can also visualize trajectories using animated plots"
   ]
  },
  {
   "cell_type": "code",
   "execution_count": null,
   "metadata": {},
   "outputs": [],
   "source": [
    "fig, ax = plt.subplots()\n",
    "\n",
    "ax.set_aspect('equal')\n",
    "ax.set_ylim(-10,610)\n",
    "ax.set_xlim(-10,610)\n",
    "\n",
    "line, = ax.plot([], [], color='r', marker='o', lw=0, ms=15)\n",
    "\n",
    "def init():\n",
    "    line.set_data([], [])\n",
    "    return (line,)\n",
    "\n",
    "def animate(i):\n",
    "    x = traj.xyz[i,:,0]*10\n",
    "    y = traj.xyz[i,:,1]*10\n",
    "    line.set_data(x, y)\n",
    "    return (line,)\n",
    "\n",
    "def display_animation(anim):\n",
    "    plt.close(anim._fig)\n",
    "    return HTML(anim.to_jshtml())\n",
    "\n",
    "anim = animation.FuncAnimation(fig, animate, init_func=init, \n",
    "                               frames=range(0,traj.n_frames,20), interval=200, blit=True)\n",
    "\n",
    "display_animation(anim)"
   ]
  },
  {
   "cell_type": "markdown",
   "metadata": {},
   "source": [
    "### Calculate histogram for uniform distribution (Hard Walls)\n",
    "\n",
    "We now generate the distribution of particle distances for the case where these are completely uncorrelated, i.e. for an ideal 2D gas confined on a square with hard boundaries. This is done by randomly placing a large number of particles (the larger the number, the higher the accuracy) and build a histogram of distances."
   ]
  },
  {
   "cell_type": "code",
   "execution_count": null,
   "metadata": {},
   "outputs": [],
   "source": [
    "from scipy.spatial import distance\n",
    "ux = np.random.randint(0, L+1, 5000)\n",
    "uy = np.random.randint(0, L+1, 5000)\n",
    "upos = np.array([ux, uy]).T\n",
    "hist = np.histogram(distance.pdist(upos), bins=150, density=True)\n",
    "ur = hist[1][1:]# / diameter\n",
    "uP = hist[0]"
   ]
  },
  {
   "cell_type": "markdown",
   "metadata": {},
   "source": [
    "### Calculate interparticle distances from the MC trajectory of the system without PBC\n",
    "\n",
    "Here we are loading a trajectory for a system of *N* particles confined on a square by hard walls.<br>\n",
    "Interparticle distances for all frames are calculated using the trajectory analysis `MDTraj` function [`compute_distances`](http://mdtraj.org/1.9.0/api/generated/mdtraj.compute_distances.html#mdtraj.compute_distances)."
   ]
  },
  {
   "cell_type": "code",
   "execution_count": null,
   "metadata": {},
   "outputs": [],
   "source": [
    "traj = md.load_xtc(trajname+'_nopbc.xtc',top=confname+'_nopbc.gro')\n",
    "pairs = traj.top.select_pairs('name MP','name MP')\n",
    "d = md.compute_distances(traj, atom_pairs=pairs, periodic=False, opt=True)*10\n",
    "hist = np.histogram(d, bins=150, density=True)\n",
    "r = hist[1][1:]# / diameter\n",
    "P = hist[0]*len(pairs)/(.5*N**2)\n",
    "plt.plot(r, P,lw=2)\n",
    "plt.plot(ur, uP,lw=2)\n",
    "plt.xlabel('distance (pixels)') # change to correct unit\n",
    "plt.ylabel('probability')\n",
    "plt.savefig('../figs/MC_pbc_N55_nointeractions.pdf',format='pdf')\n",
    "plt.show()"
   ]
  },
  {
   "cell_type": "markdown",
   "metadata": {},
   "source": [
    "### Calculate histogram for uniform distribution (PBC with minimum image convention)\n",
    "\n",
    "We now generate the distribution of particle distances for the case where these are uncorrelated, i.e. for an ideal 2D gas with PBC using the minimum image convention. This is done by (i) generating pairs of random numbers (x- and y-coordinates), (ii) calculating the distances between the points, (iii) building a histogram of distances.\n",
    "\n",
    "In the following cell we present a slow implementation, analogous to the one previously used for the system without PBC."
   ]
  },
  {
   "cell_type": "code",
   "execution_count": null,
   "metadata": {},
   "outputs": [],
   "source": [
    "#%%time\n",
    "ux = np.random.randint(0, L+1, 1000)\n",
    "uy = np.random.randint(0, L+1, 1000)\n",
    "upos = np.array([ux, uy]).T\n",
    "def minimum_image(u,v): # calculate distance according to minimum image convention\n",
    "    dvec = np.absolute(u-v)\n",
    "    d2 = 0\n",
    "    for i in dvec:\n",
    "        if (i>L/2):\n",
    "            d2 += (i-L)**2\n",
    "        else:\n",
    "            d2 += i**2\n",
    "    return np.sqrt(d2)\n",
    "uP_pbc, ur_pbc = np.histogram(distance.pdist(upos,lambda u, v: minimum_image(u,v)), bins=150, density=True)\n",
    "ur_pbc = ur_pbc[1:]-(ur_pbc[1]-ur_pbc[0])/2# / diameter"
   ]
  },
  {
   "cell_type": "markdown",
   "metadata": {},
   "source": [
    "Here is a more efficient implementation. You can turn the previous cell into a markdown cell to save time."
   ]
  },
  {
   "cell_type": "code",
   "execution_count": null,
   "metadata": {},
   "outputs": [],
   "source": [
    "#%%time\n",
    "ux = np.random.randint(0, L+1, 3000)\n",
    "uy = np.random.randint(0, L+1, 3000)\n",
    "upos = np.array([ux, uy]).T\n",
    "def distPBC(d1,d2,half_len): # calculate distance according to minimum image convention\n",
    "    half_len = int(half_len)\n",
    "    print(d1.shape,d2[:,np.newaxis].shape)\n",
    "    delta = np.abs(d1-d2[:,np.newaxis])\n",
    "    print(delta.shape)\n",
    "    delta[delta>half_len] -= half_len*2\n",
    "    return np.linalg.norm(delta,axis=2)\n",
    "uP_pbc, ur_pbc = np.histogram(distPBC(upos,upos,L/2.)[np.triu_indices(ux.size,k=1)], bins=150, density=True)\n",
    "ur_pbc = ur_pbc[1:]-(ur_pbc[1]-ur_pbc[0])/2# / diameter\n"
   ]
  },
  {
   "cell_type": "markdown",
   "metadata": {},
   "source": [
    "### Calculate interparticle distances from the MC trajectory of the system with PBC\n",
    "\n",
    "Here we are loading a trajectory for a system of *N* particles simulated with PBC.<br>\n",
    "Interparticle distances for all frames are calculated using the trajectory analysis `MDTraj` function [`compute_distances`](http://mdtraj.org/1.9.0/api/generated/mdtraj.compute_distances.html#mdtraj.compute_distances)."
   ]
  },
  {
   "cell_type": "code",
   "execution_count": null,
   "metadata": {},
   "outputs": [],
   "source": [
    "traj = md.load_xtc(trajname+'_pbc.xtc',top=confname+'_pbc.gro')\n",
    "pairs = traj.top.select_pairs('name MP','name MP')\n",
    "d = md.compute_distances(traj, atom_pairs=pairs, periodic=True, opt=True)*10\n",
    "hist = np.histogram(d, bins=150, density=True)\n",
    "r_pbc = hist[1][1:]# / diameter\n",
    "P_pbc = hist[0]*len(pairs)/(.5*N**2)\n",
    "plt.plot(r_pbc, P_pbc,'r-',lw=2, label='MC with PBC')\n",
    "plt.plot(ur_pbc, uP_pbc,'b-',lw=2, label='Uncorrelated\\npoint particles')\n",
    "plt.ylim(-.0001,0.0061)\n",
    "plt.legend(frameon=False,loc='upper left')\n",
    "plt.xlabel('distance (pixels)') # change to correct unit\n",
    "plt.ylabel('probability')\n",
    "plt.savefig('../figs/pairdis_MC_pbc_N55_nointer.pdf',format='pdf')\n",
    "plt.show()"
   ]
  },
  {
   "cell_type": "markdown",
   "metadata": {},
   "source": [
    "### Calculate final distribution function, $g(r)$\n",
    "\n",
    "In order to divide the simulated distribution with the one for uncorrelated particles, the data points in each set need to be aligned. This is achieved by splining the probability distributions against the same distance vector using the interpolation method by [Akima](https://docs.scipy.org/doc/scipy/reference/generated/scipy.interpolate.Akima1DInterpolator.html#scipy.interpolate.Akima1DInterpolator)."
   ]
  },
  {
   "cell_type": "code",
   "execution_count": null,
   "metadata": {},
   "outputs": [],
   "source": [
    "from scipy.interpolate import Akima1DInterpolator\n",
    "rvals = np.linspace(10,L+80,300)\n",
    "rdf = Akima1DInterpolator(r, P)(rvals) / Akima1DInterpolator(ur, uP)(rvals)\n",
    "rdf_pbc = Akima1DInterpolator(r_pbc, P_pbc)(rvals) / Akima1DInterpolator(ur_pbc, uP_pbc)(rvals)\n",
    "np.nan_to_num(rdf,copy=False); np.nan_to_num(rdf_pbc,copy=False) # replace NaN with zero\n",
    "#plt.plot(rvals, rdf, 'r-',lw=2,label='MC with hard walls')\n",
    "plt.plot(rvals, rdf_pbc, 'b-',lw=2,label='MC with PBC')\n",
    "plt.plot([0,700],[1,1],'k--',lw=0.5)\n",
    "plt.ylim(-0.1,3.1)\n",
    "plt.legend(frameon=False)\n",
    "plt.xlabel('$r$ (pixel)')\n",
    "plt.ylabel(r'$g(r)$')\n",
    "plt.savefig('../figs/MC_gr_N55_nointer.pdf',format='pdf')\n",
    "plt.show()"
   ]
  },
  {
   "cell_type": "markdown",
   "metadata": {},
   "source": [
    "### Calculate average energy \n",
    "\n",
    "Integrate the pair potential over the volume around a test particle weighting by the radial distribution function:"
   ]
  },
  {
   "cell_type": "code",
   "execution_count": null,
   "metadata": {},
   "outputs": [],
   "source": [
    "area=L*L\n",
    "u_rep = epsilon*(sigma/rvals)**(12)\n",
    "u_dd = C/rvals**3\n",
    "U_av = N**2/(2*area)*np.trapz(2*np.pi*rvals*(u_rep+u_dd)*rdf,rvals)\n",
    "print(U_av) # complete this"
   ]
  },
  {
   "cell_type": "code",
   "execution_count": null,
   "metadata": {},
   "outputs": [],
   "source": [
    "!head energy_20_nopbc.dat"
   ]
  },
  {
   "cell_type": "code",
   "execution_count": null,
   "metadata": {},
   "outputs": [],
   "source": [
    "energy_nonbonded = np.loadtxt(energyname+'_pbc.dat',usecols=(1))\n",
    "energy_nonbonded.mean()"
   ]
  },
  {
   "cell_type": "markdown",
   "metadata": {},
   "source": [
    "### Exercises\n",
    "0. For all figures, label axes specifying the units.\n",
    "0. Explore the particle displacement parameter ($dp$). How does this influence the mean square displacement ($\\sqrt{r^2}$) and move acceptance (specified in `out.yml`)? Does it influence the final result?\n",
    "0. How does temperature enter the simulation?\n",
    "0. Run simulation with and without PBC for systems of various number of particles.\n",
    "0. Observe the  distance distribution, $P(r)$, for magnetic particles in a 2D system of side length 600 pixels, with PBC. Why does $P(r)$ increase linearly with $r$ for $r<300$ pixels? What $r$-dependence would you expect for a 3D system? (Hint: Read paragraph 17-1 in Hill's book - especially page 301. Please mention the difference between the infinitesimal area and volume elements in 2D and 3D, respectively.)\n",
    "0. Observe the radial distribution functions, RDF or $g(r)$, obtained from the 2D particle simulator and from MC simulations of magnetic particles, with and without PBC. Comment on the differences between the three RDFs, and explain the deviation from unity at large separations observed in the simulation result (with and without PBC) and for the 2D particle simulator.  (Hint: In the 2D particle simulator the walls are magnetic bars, not just hard walls.)\n",
    "0. Simulate $g(r)$ with PBC for non-interacting particles (N.B. both dipole-dipole and size-exclusion interactions should be vanishing). Although in theory it should, the curve may not be unity for all distances. Why?\n",
    "0. List the differences between the particle simulator and the MC system. (Hint: discuss at least boundaries, interactions).\n",
    "0. Complete the script in the last cell of the notebook to calculate the average energy of the system with the following integral:\n",
    "\\begin{equation}\n",
    "\\bar{U} = \\frac{N^2}{2A} \\int_0^\\infty \\mathrm{d}r 2\\pi r \\left ( u_{rep}(r) + u_{d-d}(r) \\right ) g(r)\n",
    "\\end{equation}\n",
    "0. Compare the energy calculated from the $g(r)$ with the average of the energies calculated every 10 frames during the simulation and saved in the `energy_N_pbc.dat` or `energy_N_nopbc.dat` files.\n",
    "0. Can we study kinetics and diffusion properties from MC simulation results? If yes, briefly describe the procedure; if not, explain the reason."
   ]
  },
  {
   "cell_type": "code",
   "execution_count": null,
   "metadata": {},
   "outputs": [],
   "source": []
  },
  {
   "cell_type": "code",
   "execution_count": null,
   "metadata": {},
   "outputs": [],
   "source": []
  }
 ],
 "metadata": {
  "anaconda-cloud": {},
  "kernelspec": {
   "display_name": "Python 3",
   "language": "python",
   "name": "python3"
  },
  "language_info": {
   "codemirror_mode": {
    "name": "ipython",
    "version": 3
   },
   "file_extension": ".py",
   "mimetype": "text/x-python",
   "name": "python",
   "nbconvert_exporter": "python",
   "pygments_lexer": "ipython3",
   "version": "3.6.15"
  }
 },
 "nbformat": 4,
 "nbformat_minor": 1
}
