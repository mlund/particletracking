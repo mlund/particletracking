{
 "cells": [
  {
   "cell_type": "code",
   "execution_count": null,
   "metadata": {},
   "outputs": [],
   "source": [
    "from __future__ import division, unicode_literals, print_function\n",
    "import matplotlib as mpl\n",
    "import matplotlib.pyplot as plt\n",
    "%matplotlib inline\n",
    "import numpy as np\n",
    "import os.path, os, sys, json\n",
    "import nglview\n",
    "import mdtraj as md\n",
    "plt.rcParams.update({'font.size': 16, 'figure.figsize': [8.0, 6.0]})\n",
    "workdir=%pwd\n",
    "print(workdir)"
   ]
  },
  {
   "cell_type": "markdown",
   "metadata": {},
   "source": [
    "### Monte Carlo simulations using _Faunus_\n",
    "\n",
    "To simulate magnetic particles interacting on a plane we use a custom Metropolis Monte Carlo (MC) program built within the [Faunus framework](https://mlund.github.io/neofaunus/docs/). "
   ]
  },
  {
   "cell_type": "markdown",
   "metadata": {},
   "source": [
    "### Run Metropolis Monte Carlo Simulation\n",
    "\n",
    " run it and print simulation details.\n",
    "Finally, the positions at the end of the simulation are visualized.\n",
    "\n",
    "Our system is a cubic box of side length $L$ where $N$ particles translate in the x- and y-directions.\n",
    "\n",
    "Particles interact via $\\propto$ r$^{-12}$ and $\\propto$ r$^{-3}$ pair-potentials. \n",
    "The $\\propto$ r$^{-12}$ potential, modelling the exchange repulsions between finite-size particles, is given by\n",
    "\n",
    "\\begin{equation}\n",
    "u_{rep}(r) = E \\frac{\\sigma^{12}}{r^{12}}\n",
    "\\end{equation}\n",
    "where $\\sigma$ is the particle's diameter, and $E$ is an energy parameter.\n",
    "\n",
    "The $\\propto$ r$^{-3}$ potential, modelling the magnetic dipole-dipole interaction, reads as\n",
    "\n",
    "\\begin{equation}\n",
    "u_{d-d}(r) = \\frac{C}{r^{3}}\n",
    "\\end{equation}\n",
    "\n",
    "where C is a constant proportional to the squared magnitude of the particle's magnetic dipole moment (page 83 [Israelachvili](http://www.sciencedirect.com/science/book/9780123751829)).\n",
    "\n",
    "In molecular simulations, the boundary effects related to the small size of the simulation box compared to bulk systems is very often handled using periodic boundary conditions (PBC): any particle passing through one boundary of the simulation cell comes back into the cell through the opposite boundary (page 34 [Frenkel & Smit](http://www.sciencedirect.com/science/book/9780122673511)).\n",
    "\n",
    "If we do not use PBC in our simulation, our system would be confined by hard walls corresponding to the repulsive magnetic bars at the sides of the 2D particle simulator."
   ]
  },
  {
   "cell_type": "markdown",
   "metadata": {},
   "source": [
    "### Run Metropolis Monte Carlo Simulation\n",
    "\n",
    "This will generate an input file for the MC program, run it and print simulation details.\n",
    "Finally, the positions at the end of the simulation are visualized."
   ]
  },
  {
   "cell_type": "code",
   "execution_count": null,
   "metadata": {},
   "outputs": [],
   "source": [
    "mcdir = workdir+'/faunus/src/examples'\n",
    "%cd $mcdir\n",
    "%rm -f state\n",
    "\n",
    "N=40          # number of particles\n",
    "diameter=30   # particle diameter\n",
    "L=600.        # side lengths of the quadratic simulation plane\n",
    "C=1.5e6       # constant proportional to the squared magnitude of the particle's magnetic dipole moment\n",
    "E=10          # energy parameter for exclusion repulsion\n",
    "\n",
    "# generate input file for MC program\n",
    "js = {\n",
    "    \"atomlist\" : { \"MP\" : { \"r\":diameter*0.5, \"dp\":100 } },\n",
    "    \"moleculelist\" : {\n",
    "        \"myparticles\" : { \"atoms\":\"MP\", \"atomic\":True, \"Ninit\" : N, \"insdir\":\"1 1 0\" }\n",
    "    },\n",
    "    \"energy\" : {\n",
    "        \"nonbonded\" : {\n",
    "            \"repulsionr3\" : {\"prefactor\":C, \"lj-prefactor\":E, \"sigma\":diameter}\n",
    "        }\n",
    "    },\n",
    "    \"moves\" : {\n",
    "        \"atomtranslate\" : {\n",
    "          \"myparticles\" : { \"peratom\":True, \"dir\":\"1 1 0\" }\n",
    "        }\n",
    "    },\n",
    "    \"system\" : {\n",
    "        \"cuboid\" : { \"len\" : L }\n",
    "    }\n",
    "}\n",
    "with open('montecarlo.json', 'w+') as f:\n",
    "    f.write(json.dumps(js, indent=4))\n",
    "\n",
    "# if MC executable exists, run it and visualize final configuration\n",
    "exe='./stripes'\n",
    "if ( os.access( exe, os.X_OK )):\n",
    "    !./stripes\n",
    "    x,y = np.genfromtxt('confout.pqr', invalid_raise=False, usecols=(5,6), unpack=True, skip_footer=1)\n",
    "    x=x+L/2.0\n",
    "    y=y+L/2.0\n",
    "    plt.plot(x,y, 'ro', ms=diameter*0.5)\n",
    "    plt.xlabel(r'(you fill in all axis labels!)')"
   ]
  },
  {
   "cell_type": "markdown",
   "metadata": {},
   "source": [
    "This will generate an input file for the MC program to simulate the system with PBC"
   ]
  },
  {
   "cell_type": "code",
   "execution_count": 16,
   "metadata": {},
   "outputs": [
    {
     "name": "stdout",
     "output_type": "stream",
     "text": [
      "Overwriting input.yml\n"
     ]
    }
   ],
   "source": [
    "%%writefile pbc.yml\n",
    "temperature: 298\n",
    "mcloop: {macro: 10, micro: 1000}\n",
    "geometry: {length: 600.}\n",
    "energy:\n",
    "    - nonbonded:\n",
    "        default:\n",
    "            - repulsionr3: {prefactor: 1.5e6, lj-prefactor: 10, sigma: 30}\n",
    "atomlist:\n",
    "    - MP: {dp: 100} \n",
    "moleculelist:\n",
    "    - magnets: {atoms: [MP], atomic: true, insdir: [1,1,0]}\n",
    "insertmolecules:\n",
    "    - magnets: {N: 40}\n",
    "moves:\n",
    "    - transrot: {molecule: magnets, dir: [1,1,0]}\n",
    "analysis:\n",
    "    - atomrdf: {file: rdf.dat, nstep: 10, dr: 0.1, name1: MP, name2: MP}\n",
    "    - systemenergy: {file: energy.dat, nstep: 10}\n",
    "    - xtcfile: {file: traj.xtc, nstep: 10}\n",
    "    - savestate: {file: confout.pqr}\n",
    "    - savestate: {file: state}\n",
    "    - density: {nstep: 10}"
   ]
  },
  {
   "cell_type": "markdown",
   "metadata": {},
   "source": [
    "This will generate an input file for the MC program to simulate the system without PBC"
   ]
  },
  {
   "cell_type": "code",
   "execution_count": 77,
   "metadata": {},
   "outputs": [
    {
     "name": "stdout",
     "output_type": "stream",
     "text": [
      "Overwriting nopbc.yml\n"
     ]
    }
   ],
   "source": [
    "%%writefile nopbc.yml\n",
    "temperature: 298\n",
    "mcloop: {macro: 10, micro: 100}\n",
    "geometry: {length: 600.}\n",
    "energy:\n",
    "    - nonbonded:\n",
    "        default:\n",
    "            - repulsionr3: {prefactor: 1.5e6, lj-prefactor: 10, sigma: 30}\n",
    "    - confine: {type: cuboid, low: [-300,-300,0], high: [300,300,0], molecules: [magnets], k: 1e8}\n",
    "atomlist:\n",
    "    - MP: {sigma: 30, dp: 100} \n",
    "moleculelist:\n",
    "    - magnets: {atoms: [MP], atomic: true, insdir: [1,1,0]}\n",
    "insertmolecules:\n",
    "    - magnets: {N: 40}\n",
    "moves:\n",
    "    - transrot: {molecule: magnets, dir: [1,1,0]}\n",
    "analysis:\n",
    "    - atomrdf: {file: rdf.dat, nstep: 10, dr: 0.1, name1: MP, name2: MP}\n",
    "    - systemenergy: {file: energy.dat, nstep: 10}\n",
    "    - xtcfile: {file: traj.xtc, nstep: 10}\n",
    "    - savestate: {file: config.gro}\n",
    "    - savestate: {file: config.pqr}\n",
    "    - savestate: {file: state}\n",
    "    - density: {nstep: 10}"
   ]
  },
  {
   "cell_type": "markdown",
   "metadata": {},
   "source": [
    "This will generate an input file for the MC program to simulate the system with PBC"
   ]
  },
  {
   "cell_type": "code",
   "execution_count": null,
   "metadata": {},
   "outputs": [],
   "source": [
    "!yason.py pbc.yml | faunus"
   ]
  },
  {
   "cell_type": "markdown",
   "metadata": {},
   "source": [
    "This will generate an input file for the MC program to simulate the system without PBC"
   ]
  },
  {
   "cell_type": "code",
   "execution_count": 78,
   "metadata": {},
   "outputs": [
    {
     "name": "stdout",
     "output_type": "stream",
     "text": [
      "/Users/giulio/miniconda3/envs/particletracking/bin/yason.py:53: UnsafeLoaderWarning: \n",
      "The default 'Loader' for 'load(stream)' without further arguments can be unsafe.\n",
      "Use 'load(stream, Loader=ruamel_yaml.Loader)' explicitly if that is OK.\n",
      "Alternatively include the following in your code:\n",
      "\n",
      "  import warnings\n",
      "  warnings.simplefilter('ignore', ruamel_yaml.error.UnsafeLoaderWarning)\n",
      "\n",
      "In most other cases you should consider using 'safe_load(stream)'\n",
      "  d = yaml.load( i )\n",
      "[======================================================================] 100% 0.2ss\n",
      "relative drift = 7.31595e-16\n"
     ]
    }
   ],
   "source": [
    "!yason.py nopbc.yml | faunus_nopbc"
   ]
  },
  {
   "cell_type": "code",
   "execution_count": 79,
   "metadata": {},
   "outputs": [
    {
     "name": "stderr",
     "output_type": "stream",
     "text": [
      "/Users/giulio/miniconda3/envs/particletracking/lib/python3.6/site-packages/matplotlib/cbook/deprecation.py:106: MatplotlibDeprecationWarning: Adding an axes using the same arguments as a previous axes currently reuses the earlier instance.  In a future version, a new instance will always be created and returned.  Meanwhile, this warning can be suppressed, and the future behavior ensured, by passing a unique label to each axes instance.\n",
      "  warnings.warn(message, mplDeprecation, stacklevel=1)\n"
     ]
    },
    {
     "data": {
      "image/png": "[encoded data removed]",
      "text/plain": [
       "<matplotlib.figure.Figure at 0x115c3bd68>"
      ]
     },
     "metadata": {},
     "output_type": "display_data"
    }
   ],
   "source": [
    "x,y = np.genfromtxt('config.pqr', invalid_raise=False, usecols=(5,6), unpack=True, skip_footer=1)\n",
    "plt.plot(x,y, 'ro', ms=10)\n",
    "plt.xlabel(r'(you fill in all axis labels!)')\n",
    "plt.ylim(0,600)\n",
    "plt.xlim(0,600)\n",
    "plt.axes().set_aspect('equal')"
   ]
  },
  {
   "cell_type": "code",
   "execution_count": 30,
   "metadata": {},
   "outputs": [
    {
     "data": {
      "application/vnd.jupyter.widget-view+json": {
       "model_id": "45b1d37b690c40f8bd3b232a647f63db",
       "version_major": 2,
       "version_minor": 0
      },
      "text/plain": [
       "NGLWidget()"
      ]
     },
     "metadata": {},
     "output_type": "display_data"
    }
   ],
   "source": [
    "view = nglview.show_file('config.gro')\n",
    "view"
   ]
  },
  {
   "cell_type": "code",
   "execution_count": 31,
   "metadata": {},
   "outputs": [
    {
     "name": "stdout",
     "output_type": "stream",
     "text": [
      "40\n"
     ]
    },
    {
     "data": {
      "application/vnd.jupyter.widget-view+json": {
       "model_id": "35e144b9ce6e4d1d97decec79ff0e1e9",
       "version_major": 2,
       "version_minor": 0
      },
      "text/plain": [
       "NGLWidget(count=100)"
      ]
     },
     "metadata": {},
     "output_type": "display_data"
    }
   ],
   "source": [
    "traj = md.load_xtc('traj.xtc',top='config.gro')\n",
    "print(traj.n_atoms)\n",
    "view = nglview.show_mdtraj(traj)\n",
    "view.add_unitcell()\n",
    "#view.camera='orthographic'\n",
    "#view.add_point()\n",
    "#view.add_ball_and_stick()\n",
    "view.add_representation('point',color='blue',selection='name MP')\n",
    "view"
   ]
  },
  {
   "cell_type": "markdown",
   "metadata": {},
   "source": [
    "### Calculate histogram for uniform distribution (Hard Walls)\n",
    "\n",
    "We now generate the distribution of particle distances for the case where these are completely uncorrelated, i.e. for an ideal 2D gas confined on a square with hard boundaries. This is done by randomly placing a large number of particles (the more, the higher accuracy) and build a histogram of distances."
   ]
  },
  {
   "cell_type": "code",
   "execution_count": null,
   "metadata": {},
   "outputs": [],
   "source": [
    "from scipy.spatial import distance\n",
    "ux = np.random.random_integers(0, L, 5000)\n",
    "uy = np.random.random_integers(0, L, 5000)\n",
    "upos = np.array([ux, uy]).T\n",
    "hist = np.histogram(distance.pdist(upos), bins=150, normed=True)\n",
    "ur = hist[1][1:]# / diameter\n",
    "uP = hist[0]"
   ]
  },
  {
   "cell_type": "markdown",
   "metadata": {},
   "source": [
    "### Load simulated histogram\n",
    "\n",
    "During simulation, the MC program samples the distribution of distances observed and saves it to the file `hist.dat`.\n",
    "This we here load, normalize and plot."
   ]
  },
  {
   "cell_type": "code",
   "execution_count": null,
   "metadata": {},
   "outputs": [],
   "source": [
    "r,P = np.loadtxt('hist.dat', unpack=True)\n",
    "r = r\n",
    "ur = hist[1][1:]\n",
    "print(L)\n",
    "P = P/P.cumsum()[-1] # normalize\n",
    "plt.plot(r, P,lw=2)\n",
    "plt.plot(ur, uP,lw=2)\n",
    "plt.show()"
   ]
  },
  {
   "cell_type": "markdown",
   "metadata": {},
   "source": [
    "### Calculate histogram for uniform distribution (PBC with minimum image convention)\n",
    "\n",
    "We now generate the distribution of particle distances for the case where these are completely uncorrelated, i.e. for an ideal 2D gas with PBC using the minimum image convention. This is done by randomly placing a large number of particles (the more, the higher accuracy) and build a histogram of distances."
   ]
  },
  {
   "cell_type": "code",
   "execution_count": null,
   "metadata": {
    "collapsed": true
   },
   "outputs": [],
   "source": [
    "from scipy.spatial import distance\n",
    "ux = np.random.randint(0, L+1, 2000)\n",
    "uy = np.random.randint(0, L+1, 2000)\n",
    "upos = np.array([ux, uy]).T\n",
    "def minimum_image(u,v): # calculate distance according to minimum image convention\n",
    "    dvec = np.absolute(u-v)\n",
    "    d2 = 0\n",
    "    for i in dvec:\n",
    "        if (i>L/2):\n",
    "            d2 += (i-L)**2\n",
    "        else:\n",
    "            d2 += i**2\n",
    "    return np.sqrt(d2)\n",
    "hist = np.histogram(distance.pdist(upos,lambda u, v: minimum_image(u,v)), bins=150, normed=True)\n",
    "urpbc = hist[1][1:]# / diameter\n",
    "uPpbc = hist[0]"
   ]
  },
  {
   "cell_type": "markdown",
   "metadata": {},
   "source": [
    "### Load simulated histogram\n",
    "\n",
    "During simulation, the MC program samples the distribution of distances observed and saves it to the file `histpbc.dat`.\n",
    "This we here load, normalize and plot."
   ]
  },
  {
   "cell_type": "code",
   "execution_count": null,
   "metadata": {},
   "outputs": [],
   "source": [
    "rpbc,Ppbc = np.loadtxt('histpbc.dat', unpack=True)\n",
    "r = r\n",
    "ur = hist[1][1:]\n",
    "print(L)\n",
    "Ppbc = Ppbc/Ppbc.cumsum()[-1] # normalize\n",
    "plt.plot(rpbc, Ppbc,'r-',lw=2, label='MC with PBC')\n",
    "plt.plot(urpbc, uPpbc,'b-',lw=2, label='Uncorrelated\\npoint particles')\n",
    "plt.ylim(-.0001,0.0061)\n",
    "plt.legend(frameon=False,loc='upper left')\n",
    "plt.show()"
   ]
  },
  {
   "cell_type": "markdown",
   "metadata": {},
   "source": [
    "### Calculate final distribution function, $g(r)$\n",
    "\n",
    "In order to divide the two above distributions with each other, the data points in each set need to be aligned. This we easily ensure with Akima splines."
   ]
  },
  {
   "cell_type": "code",
   "execution_count": null,
   "metadata": {
    "collapsed": true
   },
   "outputs": [],
   "source": [
    "from scipy.interpolate import Akima1DInterpolator\n",
    "rvals = np.linspace(0,L+80,500)\n",
    "gofr = Akima1DInterpolator(r, P)(rvals) / Akima1DInterpolator(ur, uP)(rvals)\n",
    "gofrpbc = Akima1DInterpolator(rpbc, Ppbc)(rvals) / Akima1DInterpolator(urpbc, uPpbc)(rvals)\n",
    "plt.plot(rvals, gofr, 'r-',lw=2,label='MC with hard walls')\n",
    "plt.plot(rvals, gofrpbc, 'b-',lw=2,label='MC with PBC')\n",
    "plt.plot([0,700],[1,1],'k--',lw=0.5)\n",
    "plt.ylim(-0.1,3.1)\n",
    "plt.legend(frameon=False)"
   ]
  },
  {
   "cell_type": "markdown",
   "metadata": {},
   "source": [
    "### Calculate average energy \n",
    "\n",
    "Integrate the pair potential over the volume around a test particle weighting by the radial distribution function:"
   ]
  },
  {
   "cell_type": "code",
   "execution_count": null,
   "metadata": {
    "collapsed": true
   },
   "outputs": [],
   "source": [
    "rvals = np.linspace(0.85,L/2,500)\n",
    "gofr = Akima1DInterpolator(r, P)(rvals) / Akima1DInterpolator(ur, uP)(rvals)\n",
    "area=L*L\n",
    "dr = rvals[1]-rvals[0]\n",
    "print( np.cumsum(dr*math.pi*rvals*gofr)[-1] * N**2 / area )"
   ]
  },
  {
   "cell_type": "markdown",
   "metadata": {},
   "source": [
    "### Exercises, Part II\n",
    "\n",
    "0. For all figures, label axes specifying the units.\n",
    "0. Explore the particle displacement parameter. How does this influence the mean square displacement and move acceptance? Does it influence the final result?\n",
    "0. How does temperature enter the simulation?\n",
    "0. Run simulation with PBC instead of hard walls (change CuboidNoPBC to Cuboid in line 4, hist.dat to histpbc.dat, in montecarlo.cpp and recompile).\n",
    "0. Observe the  distance distribution, $P(r)$, for magnetic particles in a 2D system of side length 600 pixels, with PBC. Why does $P(r)$ increase linearly with $r$ for $r<300$ pixels? What $r$-dependence would you expect for a 3D system? (Hint: Read paragraph 17-1 in Hill's book - especially page 301. Please mention the difference between the infinitesimal area and volume elements in 2D and 3D, respectively.)\n",
    "0. Observe the radial distribution functions, RDF or $g(r)$, obtained from the 2D particle simulator and from MC simulations of magnetic particles, with and without PBC. Comment on the differences between the three RDFs, and explain the deviation from unity at large separations observed in the simulation result (with and without PBC) and for the 2D particle simulator.  (Hint: In the 2D particle simulator the walls are magnetic bars, not just hard walls.)\n",
    "0. Simulate $g(r)$ for non-interacting particles (N.B. both dipole-dipole and size-exclusion interactions should be vanishing). Although in theory it should, the curve may not be unity for all distances. Why?\n",
    "0. List the differences between the particle simulator and the MC system. (Hint: discuss at least boundaries, interactions).\n",
    "0. Complete the script in the last cell of the notebook to calculate the average energy of the system with the following integral:\n",
    "\n",
    "\\begin{equation}\n",
    "\\bar{U} = \\frac{N^2}{2A} \\int_0^\\infty \\mathrm{d}r 2\\pi r \\left ( u_{rep}(r) + u_{d-d}(r) \\right ) g(r)\n",
    "\\end{equation}"
   ]
  },
  {
   "cell_type": "code",
   "execution_count": null,
   "metadata": {},
   "outputs": [],
   "source": []
  }
 ],
 "metadata": {
  "anaconda-cloud": {},
  "kernelspec": {
   "display_name": "Python 3",
   "language": "python",
   "name": "python3"
  },
  "language_info": {
   "codemirror_mode": {
    "name": "ipython",
    "version": 3
   },
   "file_extension": ".py",
   "mimetype": "text/x-python",
   "name": "python",
   "nbconvert_exporter": "python",
   "pygments_lexer": "ipython3",
   "version": "3.6.5"
  }
 },
 "nbformat": 4,
 "nbformat_minor": 1
}
