{
 "cells": [
  {
   "cell_type": "markdown",
   "metadata": {},
   "source": [
    "# Numerical simulation of magnetic particles on a plane\n",
    "\n",
    "In this notebook we try to mimick the analog particle simulator using Metropolis-Hastings Monte Carlo (MC) simulation.\n",
    "We will use the software [_Faunus_](https://faunus.readthedocs.io) which is designed to handle a broad range of\n",
    "molecular systems, spanning from atomistic models to coarse grained particle representations.\n",
    "\n",
    "## Learning outcomes\n",
    "\n",
    "- Be able to setup and run numerical particle simulations using pair-potentials.\n",
    "- Understand the concept of periodic boundary conditions (PBC)\n",
    "- Visualize simulation output\n",
    "- Extract structural information from simulations, specifically the _radial distribution function_, $g(r)$.\n",
    "- Use $g(r)$ to calculate thermodynamic properties\n",
    "\n",
    "## Literature\n",
    "- [_Intermolecular and Surface Forces_](https://www.sciencedirect.com/book/9780123751829/intermolecular-and-surface-forces) by J. Israelachvili\n",
    "- [_Understanding Molecular Simulation_](http://www.sciencedirect.com/science/book/9780122673511)) by Frenkel and Smit\n",
    "\n",
    "## Model System\n",
    "\n",
    "The model system is a pseudo _cubic box_ with side lengths $L$ containing $N$ particles located on the xy-plane and translate in the _x_ and _y_ directions.\n",
    "This effectively mimicks a planar surface as in the analog simulator.\n",
    "Particles interact via $\\propto$ $r^{-12}$ and $\\propto$ $r^{-3}$ pair-potentials. \n",
    "The former models exchange repulsion between finite-sized particles:\n",
    "\n",
    "$$\n",
    "u_{rep}(r) = \\epsilon \\left (\\frac{\\sigma}{r} \\right )^{12}\n",
    "$$\n",
    "\n",
    "where $\\sigma$ is the particle's diameter, and $\\epsilon$ is a positive constant.\n",
    "The $r^{-3}$ potential described the magnetic dipole-dipole repulsion (↑↑):\n",
    "\n",
    "$$\n",
    "u_{d-d}(r) = \\frac{C}{r^{3}}\n",
    "$$\n",
    "\n",
    "where $C$ is a constant proportional to the squared magnitude of the particle's magnetic dipole moment, see e.g. the book of Israelachvili, page 83.\n",
    "In molecular simulations, the boundary effects related to the small size of the simulation box compared to bulk systems is often handled using periodic boundary conditions (PBC): any particle passing through one boundary of the simulation cell comes back into the cell through the opposite boundary (page 34, Frenkel & Smit).\n",
    "If we do not use PBC in our simulation, our system would be confined by hard walls corresponding to the repulsive magnetic bars at the sides of the \"analog\" 2D particle simulator."
   ]
  },
  {
   "cell_type": "code",
   "execution_count": null,
   "metadata": {},
   "outputs": [],
   "source": [
    "%matplotlib inline\n",
    "import matplotlib.pyplot as plt\n",
    "import matplotlib.animation as animation\n",
    "import numpy as np\n",
    "import json\n",
    "import mdtraj as md\n",
    "import base64\n",
    "from scipy.spatial import distance\n",
    "from scipy.interpolate import Akima1DInterpolator\n",
    "from IPython.display import HTML\n",
    "from cryptography.fernet import Fernet\n",
    "\n",
    "plt.rcParams.update({\"font.size\": 16, \"figure.figsize\": [8.0, 6.0]})\n",
    "\n",
    "\n",
    "def encrypt(string, key):\n",
    "    \"\"\"Helper function to encrypt a string with a password\"\"\"\n",
    "    def keygen(x):\n",
    "        return base64.urlsafe_b64encode(x.encode() + b\" \" * (32 - len(x)))\n",
    "    cipher = Fernet(keygen(key))\n",
    "    return cipher.encrypt(string.encode())\n",
    "\n",
    "\n",
    "def decrypt(string, key):\n",
    "    \"\"\"Helper function to decrypt a string\"\"\"\n",
    "    def keygen(x):\n",
    "        return base64.urlsafe_b64encode(x.encode() + b\" \" * (32 - len(x)))\n",
    "    cipher = Fernet(keygen(key))\n",
    "    return print(cipher.decrypt(string.encode()).decode())"
   ]
  },
  {
   "cell_type": "markdown",
   "metadata": {},
   "source": [
    "## Monte Carlo simulations\n",
    "\n",
    "The following cells generate input to simulate the system with and without periodic boundary counditions.\n",
    "\n",
    "- `mcloop` determines the number of MC sweeps (_macro_ ✕ _micro_).\n",
    "- `atomlist` indicates the type of atoms in the system. We are going to simulate magnetic particles (*MP*). The [trial moves](https://faunus.readthedocs.io/en/latest/_docs/moves.html) for these particles are translations in the xy-plane and the length of the displacement is determined by the product of *dp* times a random unit vector.\n",
    "- in `insertmolecules` we set the number of magnets in the system.\n",
    "- in `energy` we set the nonbonded interactions. _sigma_ sets the particle diameter, _prefactor_ sets the constant for the $r^{-3}$-interaction (*C*) while lj-prefactor sets the energy parameter for the $r^{-12}$-interaction ($\\epsilon$). In the case of simulations with hard walls, we add an additional term to the [Hamiltonian](https://faunus.readthedocs.io/en/latest/_docs/energy.html) which confines the particles in $-L/2\\leq x\\leq L/2$ and $-L/2\\leq y\\leq L/2$. This term is a quadratic function of the distance from the boundary with spring constant $k$ that is applied to the particle when it is outside the boundaries.\n",
    "- in [`analysis`](https://faunus.readthedocs.io/en/latest/_docs/analysis.html) we indicate the analysis that we want to perform during the simulation. Here, we specify that we want to save each configuration into a trajectory file and the final configuration into a `gro` file. We also want to print to file the energy of the system (total, nonbonded, or confinement) for each frame.\n",
    "\n",
    "Trajectory files are saved in `xtc` format – notice that the default length unit in _Faunus_ is Ångstrom, while coordinates are saved in nm in `xtc` and `gro` files."
   ]
  },
  {
   "cell_type": "markdown",
   "metadata": {},
   "source": [
    "### Input Parameters"
   ]
  },
  {
   "cell_type": "code",
   "execution_count": null,
   "metadata": {},
   "outputs": [],
   "source": [
    "sigma = 53.0  # particle diameter (Å)\n",
    "dp = 100.0  # particle displacement (Å)\n",
    "N = 55  # number of particles\n",
    "L = 600.0  # Side length of the box (Å)\n",
    "C = 1e6  # Magnetic dipole interaction prefactor, C (1e6)\n",
    "epsilon = 10  # Lennard-Jones prefactor (10)\n",
    "micro = 1e4  # number of MC sweeps\n",
    "trajname = f\"traj_{N}\" # trajectory file name\n",
    "confname = f\"conf_{N}\" # final configuration file name\n",
    "energyname = f\"energy_{N}\" # energy file name"
   ]
  },
  {
   "cell_type": "markdown",
   "metadata": {},
   "source": [
    "### Simulation _with_ periodic boundaries conditions (PBC)"
   ]
  },
  {
   "cell_type": "code",
   "execution_count": null,
   "metadata": {
    "editable": true,
    "slideshow": {
     "slide_type": ""
    },
    "tags": []
   },
   "outputs": [],
   "source": [
    "js = {\n",
    "    \"temperature\": 298,\n",
    "    \"mcloop\": {\"macro\": 1, \"micro\": micro},\n",
    "    \"geometry\": {\"type\": \"cuboid\", \"length\": L},\n",
    "    \"energy\": [\n",
    "        {\n",
    "            \"nonbonded\": {\n",
    "                \"default\": [\n",
    "                    {\n",
    "                        \"repulsionr3\": {\n",
    "                            \"prefactor\": C,\n",
    "                            \"lj-prefactor\": epsilon,\n",
    "                            \"sigma\": sigma,\n",
    "                        }\n",
    "                    }\n",
    "                ]\n",
    "            }\n",
    "        }\n",
    "    ],\n",
    "    \"atomlist\": [{\"MP\": {\"dp\": dp}}],\n",
    "    \"moleculelist\": [\n",
    "        {\"magnets\": {\"atoms\": [\"MP\"], \"atomic\": True, \"insdir\": [1, 1, 0]}}\n",
    "    ],\n",
    "    \"insertmolecules\": [{\"magnets\": {\"N\": N}}],\n",
    "    \"moves\": [{\"transrot\": {\"molecule\": \"magnets\", \"dir\": [1, 1, 0]}}],\n",
    "    \"analysis\": [\n",
    "        {\"xtcfile\": {\"file\": trajname + \"_pbc.xtc\", \"nstep\": 10}},\n",
    "        {\"savestate\": {\"file\": confname + \"_pbc.gro\"}},\n",
    "        {\"systemenergy\": {\"file\": energyname + \"_pbc.dat\", \"nstep\": 10}},\n",
    "    ],\n",
    "}\n",
    "with open(\"pbc.json\", \"w+\") as f:\n",
    "    print('Writing input file \"pbc.json\" to disk...')\n",
    "    f.write(json.dumps(js, indent=4))\n",
    "    \n",
    "!faunus -i pbc.json"
   ]
  },
  {
   "cell_type": "markdown",
   "metadata": {},
   "source": [
    "### Simulation _without_ periodic boundaries (hard walls)\n",
    "\n",
    "We now setup a simulation of particles on a square with hard walls, i.e. no periodic boundaries.\n",
    "This is closer to the \"analog\" particle simulation from the previous Notebook."
   ]
  },
  {
   "cell_type": "code",
   "execution_count": null,
   "metadata": {},
   "outputs": [],
   "source": [
    "js = {\n",
    "    \"temperature\": 298,\n",
    "    \"mcloop\": {\"macro\": 1, \"micro\": micro},\n",
    "    \"geometry\": {\"type\": \"cuboid\", \"length\": L},\n",
    "    \"energy\": [\n",
    "        {\n",
    "            \"nonbonded\": {\n",
    "                \"default\": [\n",
    "                    {\n",
    "                        \"repulsionr3\": {\n",
    "                            \"prefactor\": C,\n",
    "                            \"lj-prefactor\": epsilon,\n",
    "                            \"sigma\": sigma,\n",
    "                        }\n",
    "                    }\n",
    "                ]\n",
    "            }\n",
    "        },\n",
    "        {\n",
    "            \"confine\": {\n",
    "                \"type\": \"cuboid\",\n",
    "                \"low\": [-L / 2 + sigma, -L / 2 + sigma, 0],\n",
    "                \"high\": [L / 2 - sigma, L / 2 - sigma, 0],\n",
    "                \"molecules\": [\"magnets\"],\n",
    "                \"k\": 1e6,\n",
    "            }\n",
    "        },\n",
    "    ],\n",
    "    \"atomlist\": [{\"MP\": {\"dp\": dp}}],\n",
    "    \"moleculelist\": [\n",
    "        {\"magnets\": {\"atoms\": [\"MP\"], \"atomic\": True, \"insdir\": [1, 1, 0]}}\n",
    "    ],\n",
    "    \"insertmolecules\": [{\"magnets\": {\"N\": N}}],\n",
    "    \"moves\": [{\"transrot\": {\"molecule\": \"magnets\", \"dir\": [1, 1, 0]}}],\n",
    "    \"analysis\": [\n",
    "        {\"xtcfile\": {\"file\": trajname + \"_nopbc.xtc\", \"nstep\": 10}},\n",
    "        {\"savestate\": {\"file\": confname + \"_nopbc.gro\"}},\n",
    "        {\"systemenergy\": {\"file\": energyname + \"_nopbc.dat\", \"nstep\": 10}},\n",
    "    ],\n",
    "}\n",
    "with open(\"nopbc.json\", \"w+\") as f:\n",
    "    f.write(json.dumps(js, indent=4))\n",
    "\n",
    "!faunus -i nopbc.json"
   ]
  },
  {
   "cell_type": "markdown",
   "metadata": {},
   "source": [
    "### Tasks and questions:\n",
    "1. Why do you initially get a _humongous negative energy change_?\n",
    "2. What does the _relative energy drift_ mean?\n",
    "3. What is the area per particle? Give your answer in $Å^2$."
   ]
  },
  {
   "cell_type": "markdown",
   "metadata": {},
   "source": [
    "### Loading the Trajectory\n",
    "\n",
    "We now load the Gromacs-style trajectory `xtc`-file using the library [MDTraj](https://www.mdtraj.org).\n",
    "The coordinates of all the particles for all the frames can be accessed as an array of shape: *number of frames*, *number of particle*, *number of cartesian coordinates*.\n",
    "The `xtc` format stores all lengths in nanometers."
   ]
  },
  {
   "cell_type": "code",
   "execution_count": null,
   "metadata": {},
   "outputs": [],
   "source": [
    "traj = md.load_xtc(trajname + \"_pbc.xtc\", top=confname + \"_pbc.gro\")\n",
    "print(f\"Number of particles = {traj.n_atoms}\")\n",
    "print(f\"Number of frames    = {traj.n_frames}\")\n",
    "print(f\"xyz shape           = {traj.xyz.shape}\")"
   ]
  },
  {
   "cell_type": "markdown",
   "metadata": {},
   "source": [
    "Here are the positions of the first three magnets in the 12th frame:"
   ]
  },
  {
   "cell_type": "code",
   "execution_count": null,
   "metadata": {},
   "outputs": [],
   "source": [
    "traj.xyz[12, :3, :]"
   ]
  },
  {
   "cell_type": "markdown",
   "metadata": {},
   "source": [
    "Here are the x-coordinates of the first 5th–7th magnets in the 20th frame:"
   ]
  },
  {
   "cell_type": "code",
   "execution_count": null,
   "metadata": {},
   "outputs": [],
   "source": [
    "traj.xyz[20, 4:7, 0]"
   ]
  },
  {
   "cell_type": "markdown",
   "metadata": {},
   "source": [
    "We can visualize the positions of the particles in the 20th frame by a simple xy plot:"
   ]
  },
  {
   "cell_type": "code",
   "execution_count": null,
   "metadata": {},
   "outputs": [],
   "source": [
    "fig, ax = plt.subplots()\n",
    "ax.plot(traj.xyz[10, :, 0] * 10, traj.xyz[10, :, 1] * 10, \"ro\", ms=15)\n",
    "ax.set_aspect(\"equal\")\n",
    "ax.set_xlabel(r\"distance\")\n",
    "ax.set_ylabel(r\"distance\")\n",
    "ax.set_ylim(-10, 610)\n",
    "ax.set_xlim(-10, 610)\n",
    "plt.show()"
   ]
  },
  {
   "cell_type": "markdown",
   "metadata": {},
   "source": [
    "We can also visualize trajectories using animated plots"
   ]
  },
  {
   "cell_type": "code",
   "execution_count": null,
   "metadata": {},
   "outputs": [],
   "source": [
    "fig, ax = plt.subplots()\n",
    "ax.set_aspect(\"equal\")\n",
    "ax.set_ylim(-10, 610)\n",
    "ax.set_xlim(-10, 610)\n",
    "(line,) = ax.plot([], [], color=\"r\", marker=\"o\", lw=0, ms=15)\n",
    "\n",
    "\n",
    "def init():\n",
    "    line.set_data([], [])\n",
    "    return (line,)\n",
    "\n",
    "\n",
    "def animate(i):\n",
    "    x = traj.xyz[i, :, 0] * 10\n",
    "    y = traj.xyz[i, :, 1] * 10\n",
    "    line.set_data(x, y)\n",
    "    return (line,)\n",
    "\n",
    "\n",
    "def display_animation(anim):\n",
    "    plt.close(anim._fig)\n",
    "    return HTML(anim.to_jshtml())\n",
    "\n",
    "\n",
    "anim = animation.FuncAnimation(\n",
    "    fig,\n",
    "    animate,\n",
    "    init_func=init,\n",
    "    frames=range(0, traj.n_frames, 20),\n",
    "    interval=200,\n",
    "    blit=True,\n",
    ")\n",
    "display_animation(anim)"
   ]
  },
  {
   "cell_type": "markdown",
   "metadata": {},
   "source": [
    "### Calculate histogram for uniform distribution (No PBC = Hard Walls)\n",
    "\n",
    "We now generate the distribution of particle distances for the case where these are completely uncorrelated, i.e. for an ideal 2D gas confined on a square with hard boundaries. This is done by randomly placing a large number of particles (the larger the number, the higher the accuracy) and build a histogram of distances."
   ]
  },
  {
   "cell_type": "code",
   "execution_count": null,
   "metadata": {},
   "outputs": [],
   "source": [
    "def ideal_histogram(N):\n",
    "    \"\"\"returns the uncorrelated (ideal) histogram of particle separations on a square\"\"\"\n",
    "    x = np.random.randint(0, L + 1, N)\n",
    "    y = np.random.randint(0, L + 1, N)\n",
    "    pos = np.array([x, y]).T\n",
    "    hist = np.histogram(distance.pdist(pos), bins=150, density=True)\n",
    "    r = hist[1][1:]  # / diameter\n",
    "    P = hist[0]\n",
    "    return r, P\n",
    "\n",
    "\n",
    "def real_histogram(traj):\n",
    "    \"\"\"returns the real histogram as sampled from a MC trajectory\"\"\"\n",
    "    pairs = traj.top.select_pairs(\"name MP\", \"name MP\")\n",
    "    d = md.compute_distances(traj, atom_pairs=pairs, periodic=False, opt=True) * 10\n",
    "    hist = np.histogram(d, bins=150, density=True)\n",
    "    r = hist[1][1:]  # / diameter\n",
    "    P = hist[0] * len(pairs) / (0.5 * N**2)\n",
    "    return r, P"
   ]
  },
  {
   "cell_type": "markdown",
   "metadata": {},
   "source": [
    "### Calculate interparticle distances from the MC trajectory of the system without PBC\n",
    "\n",
    "Here we are loading a trajectory for a system of *N* particles confined on a square by hard walls.\n",
    "Interparticle distances for all frames are calculated using the trajectory analysis `MDTraj` function [`compute_distances`](http://mdtraj.org/1.9.0/api/generated/mdtraj.compute_distances.html#mdtraj.compute_distances)."
   ]
  },
  {
   "cell_type": "code",
   "execution_count": null,
   "metadata": {},
   "outputs": [],
   "source": [
    "traj = md.load_xtc(trajname + \"_nopbc.xtc\", top=confname + \"_nopbc.gro\")\n",
    "r, P = real_histogram(traj)\n",
    "plt.plot(r, P, lw=2, label=\"Monte Carlo\")\n",
    "\n",
    "r, P = ideal_histogram(5000)\n",
    "plt.plot(r, P, lw=2, label=\"Ideal\")\n",
    "\n",
    "plt.xlabel(r\"Particle-particle distance, $r$\")\n",
    "plt.ylabel(r\"Probability, $P(r)$\")\n",
    "plt.legend(frameon=False, loc=0)\n",
    "plt.show()"
   ]
  },
  {
   "cell_type": "markdown",
   "metadata": {},
   "source": [
    "### Calculate histogram for a PBC with minimum image convention\n",
    "\n",
    "We now generate the distribution of particle distances for the case where these are uncorrelated, i.e. for an ideal 2D gas with PBC using the minimum image convention. This is done by (i) generating pairs of random numbers (x- and y-coordinates), (ii) calculating the distances between the points, (iii) building a histogram of distances.\n",
    "In the following cell we present a slow implementation, analogous to the one previously used for the system without PBC.\n",
    "\n",
    "We can also get the _real_ distribution by loading a MC trajectory for a system of _N_ particles simulated with PBC. Interparticle distances for all frames are calculated using the trajectory analysis `MDTraj` function [`compute_distances`](http://mdtraj.org/1.9.0/api/generated/mdtraj.compute_distances.html#mdtraj.compute_distances)."
   ]
  },
  {
   "cell_type": "code",
   "execution_count": null,
   "metadata": {},
   "outputs": [],
   "source": [
    "def ideal_histogram_pbc_slow(N):\n",
    "    \"\"\"Uncorrelated histogram of particle-particle distance using PBC (slow version)\"\"\"\n",
    "    x = np.random.randint(0, L + 1, N)\n",
    "    y = np.random.randint(0, L + 1, N)\n",
    "    pos = np.array([x, y]).T\n",
    "\n",
    "    def minimum_image(u, v):  # calculate distance according to minimum image convention\n",
    "        dvec = np.absolute(u - v)\n",
    "        d2 = 0\n",
    "        for i in dvec:\n",
    "            if i > L / 2:\n",
    "                d2 += (i - L) ** 2\n",
    "            else:\n",
    "                d2 += i**2\n",
    "        return np.sqrt(d2)\n",
    "\n",
    "    P, r = np.histogram(\n",
    "        distance.pdist(pos, lambda u, v: minimum_image(u, v)), bins=150, density=True\n",
    "    )\n",
    "    r = r[1:] - (r[1] - r[0]) / 2  # / diameter\n",
    "    return r, P\n",
    "\n",
    "\n",
    "def ideal_histogram_pbc(N):\n",
    "    \"\"\"Uncorrelated histogram of particle-particle distance using PBC\"\"\"\n",
    "    x = np.random.randint(0, L + 1, N)\n",
    "    y = np.random.randint(0, L + 1, N)\n",
    "    pos = np.array([x, y]).T\n",
    "\n",
    "    def distPBC(d1, d2, half_len):\n",
    "        \"\"\"Calculate minimum distance, r, according to the minimum image convention\"\"\"\n",
    "        half_len = int(half_len)\n",
    "        # print(d1.shape, d2[:,np.newaxis].shape)\n",
    "        delta = np.abs(d1 - d2[:, np.newaxis])\n",
    "        # print(delta.shape)\n",
    "        delta[delta > half_len] -= half_len * 2\n",
    "        return np.linalg.norm(delta, axis=2)\n",
    "\n",
    "    P, r = np.histogram(\n",
    "        distPBC(pos, pos, L / 2.0)[np.triu_indices(x.size, k=1)], bins=150, density=True\n",
    "    )\n",
    "    r = r[1:] - (r[1] - r[0]) / 2  # task: normalize by particle diameter\n",
    "    return r, P\n",
    "\n",
    "\n",
    "def real_histogram_pbc(traj):\n",
    "    \"\"\"real histogram of particle-particle distances using PBC on loaded MC trajectory\"\"\"\n",
    "    pairs = traj.top.select_pairs(\"name MP\", \"name MP\")\n",
    "    d = md.compute_distances(traj, atom_pairs=pairs, periodic=True, opt=True) * 10\n",
    "    hist = np.histogram(d, bins=150, density=True)\n",
    "    r = hist[1][1:]  # divide by diameter\n",
    "    P = hist[0] * len(pairs) / (0.5 * N**2)\n",
    "    return r, P"
   ]
  },
  {
   "cell_type": "code",
   "execution_count": null,
   "metadata": {},
   "outputs": [],
   "source": [
    "traj = md.load_xtc(trajname + \"_pbc.xtc\", top=confname + \"_pbc.gro\")\n",
    "r, P = real_histogram_pbc(traj)\n",
    "plt.plot(r, P, \"r-\", lw=2, label=\"Monte Carlo w. PBC\")\n",
    "\n",
    "r_ideal, P_ideal = ideal_histogram_pbc(3000)\n",
    "plt.plot(r_ideal, P_ideal, \"b-\", lw=2, label=\"Ideal w. PBC\")\n",
    "\n",
    "plt.ylim(-0.0001, 0.0061)\n",
    "plt.legend(frameon=False, loc=\"upper left\")\n",
    "plt.xlabel(r\"Distance, $r$\")  # add correct unit\n",
    "plt.ylabel(r\"Probability, $P(r)$\")\n",
    "plt.show()"
   ]
  },
  {
   "cell_type": "markdown",
   "metadata": {},
   "source": [
    "### Calculate final distribution function, $g(r) = P_{real}(r) / P_{ideal}(r)$\n",
    "\n",
    "In order to _divide_ the simulated distribution with the one for uncorrelated particles, the data points in each set need to be aligned. This is achieved by _splining_ the probability distributions against the same distance vector using the interpolation method by [Akima](https://docs.scipy.org/doc/scipy/reference/generated/scipy.interpolate.Akima1DInterpolator.html#scipy.interpolate.Akima1DInterpolator)."
   ]
  },
  {
   "cell_type": "code",
   "execution_count": null,
   "metadata": {},
   "outputs": [],
   "source": [
    "rvals = np.linspace(0, L, 300)\n",
    "\n",
    "rdf = Akima1DInterpolator(r, P)(rvals) / Akima1DInterpolator(r_ideal, P_ideal)(rvals)\n",
    "np.nan_to_num(rdf, copy=False)  # replace NaN with zero\n",
    "plt.plot(rvals, rdf, \"r-\", lw=2)\n",
    "\n",
    "plt.plot([0, 700], [1, 1], \"k--\", lw=0.5)\n",
    "plt.ylim(-0.5, 3)\n",
    "plt.xlabel(r\"$r$\")\n",
    "plt.ylabel(r\"$g(r)$\")\n",
    "plt.show()"
   ]
  },
  {
   "cell_type": "markdown",
   "metadata": {},
   "source": [
    "### Calculate average energy \n",
    "\n",
    "Integrate the pair potential over the volume around a test particle weighting by the radial distribution function:"
   ]
  },
  {
   "cell_type": "code",
   "execution_count": null,
   "metadata": {},
   "outputs": [],
   "source": [
    "area = L * L\n",
    "u_rep = epsilon * (sigma / rvals) ** 12\n",
    "u_dd = C / rvals**3\n",
    "U_av = 0  # task: finish this\n",
    "print(f\"Average energy = {U_av}\")\n",
    "\n",
    "# password hint: something Japanese times two...\n",
    "# decrypt('gAAAAABj9Ky9VPVC3xD1wJlD0Hqf4lpLjSkcm18x0pX08K0M8aSz_6cH-0B6EXaRIWgng3ldLrSBCzXueglL8R-fAGQxubv3BNvq7MmuQ69fl4xk7d6TxfDAF9C82MZdRl9prq8BKvm-huus448umYmSkWcs_m2k4S9Sl_uf7edaACkRHM33wy3mNtW1-6MkXogiWXAiINnr', 'insert_password')"
   ]
  },
  {
   "cell_type": "code",
   "execution_count": null,
   "metadata": {},
   "outputs": [],
   "source": [
    "!head \"$energyname\"_nopbc.dat"
   ]
  },
  {
   "cell_type": "code",
   "execution_count": null,
   "metadata": {},
   "outputs": [],
   "source": [
    "energy_nonbonded = np.loadtxt(energyname + \"_nopbc.dat\", usecols=(1))\n",
    "energy_nonbonded.mean()"
   ]
  },
  {
   "cell_type": "markdown",
   "metadata": {},
   "source": [
    "### Exercises\n",
    "1. Why do you initially get very large energies in the MC simulations? Explore the `--state state.json` option to [reload from a previously saved state](https://faunus.readthedocs.io/en/latest/_docs/running.html?highlight=state#restarting).\n",
    "0. Explore the particle displacement parameter ($dp$). How does this influence the mean square displacement ($\\sqrt{r^2}$) and move acceptance (see `out.json`)? Does it influence the final result?\n",
    "0. How does temperature enter a Monte Carlo simulation?\n",
    "0. Run simulation with and without PBC for systems of various number of particles.\n",
    "1. For all figures, label axes specifying the units.\n",
    "1. For a RDF figure, try to normalize with the particle diameter, $\\sigma$ to get _reduced units_ (See e.g. the Frenkel and Smit book)\n",
    "0. Observe the  distance distribution, $P(r)$, for magnetic particles in a 2D system of side length 600 pixels, with PBC. Why does $P(r)$ increase linearly with $r$ for $r<300$ pixels? What $r$-dependence would you expect for a 3D system? (Hint: Read paragraph 17-1 in Hill's book - especially page 301. Please mention the difference between the infinitesimal area and volume elements in 2D and 3D, respectively.)\n",
    "0. Observe the radial distribution functions, RDF or $g(r)$, obtained from the 2D particle simulator and from MC simulations of magnetic particles, with and without PBC. Comment on the differences between the three RDFs, and explain the deviation from unity at large separations observed in the simulation result (with and without PBC) and for the 2D particle simulator.  (Hint: In the 2D particle simulator the walls are magnetic bars, not just hard walls.)\n",
    "0. Simulate $g(r)$ with PBC for non-interacting particles (N.B. both dipole-dipole and size-exclusion interactions should be vanishing). Although in theory it should, the curve may not be unity for all distances. Why?\n",
    "0. List the differences between the particle simulator and the MC system. (Hint: discuss at least boundaries, interactions).\n",
    "0. Extra: Complete the script in the last cell of the notebook to calculate the average energy of the system with the following integral:\n",
    "\\begin{equation}\n",
    "\\bar{U} = \\frac{N^2}{2A} \\int_0^\\infty  2\\pi r u(r) g(r) \\mathrm{d}r\n",
    "\\end{equation}\n",
    "0. Extra: Compare the energy calculated from the $g(r)$ with the average of the energies calculated every 10 frames during the simulation and saved in the `energy_N_pbc.dat` or `energy_N_nopbc.dat` files.\n",
    "0. Extra: Can we study kinetics and diffusion properties from MC simulation results? If yes, briefly describe the procedure; if not, explain the reason."
   ]
  },
  {
   "cell_type": "markdown",
   "metadata": {},
   "source": []
  }
 ],
 "metadata": {
  "anaconda-cloud": {},
  "kernelspec": {
   "display_name": "Python 3 (ipykernel)",
   "language": "python",
   "name": "python3"
  },
  "language_info": {
   "codemirror_mode": {
    "name": "ipython",
    "version": 3
   },
   "file_extension": ".py",
   "mimetype": "text/x-python",
   "name": "python",
   "nbconvert_exporter": "python",
   "pygments_lexer": "ipython3",
   "version": "3.11.7"
  }
 },
 "nbformat": 4,
 "nbformat_minor": 4
}
